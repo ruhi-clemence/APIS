{
 "cells": [
  {
   "cell_type": "code",
   "execution_count": null,
   "id": "1d5cfe19",
   "metadata": {},
   "outputs": [],
   "source": [
    "## For the customer\n",
    "\n",
    "detect_complain = {}\n",
    "\n"
   ]
  },
  {
   "cell_type": "code",
   "execution_count": null,
   "id": "3f063d49",
   "metadata": {},
   "outputs": [],
   "source": [
    "def register():\n",
    "    if detect_complain:\n",
    "\n",
    "        name = input('Enter your name: ')\n",
    "        submit_complain = input('Kindly submit your complain: ')\n",
    "\n",
    "        if submit_complain in detect_complain.keys() or name in detect_complain.values():\n",
    "            print('Data already exist, please try again!')\n",
    "\n",
    "        else:\n",
    "            for record in detect_complain.values():\n",
    "                if name in detect_complain.values():\n",
    "                    print('Data already exists, please try again!')\n",
    "                else:\n",
    "                    detect_complain[submit_complain] = {'Name':name,'Complain':submit_complain}\n",
    "                    print('Your complain has been submitted!')\n",
    "                    print(detect_complain.values())\n",
    "                    print('===================================')\n",
    "                    break       \n",
    "    else:\n",
    "        name = input('Enter your name: ')\n",
    "        submit_complain = input('Kindly submit your complain: ')\n",
    "        detect_complain[submit_complain] = {'Name':name,'Complain':submit_complain}\n",
    "        print(detect_complain)\n",
    "        \n",
    "        \n",
    "def main():\n",
    "    runtime = 1\n",
    "    print('Welcome!')\n",
    "    while runtime:\n",
    "        checker = int(input('Enter 0 to submit your name, 1 for submit a complain, 2 to quit:'))\n",
    "             \n",
    "\n",
    "        if checker == 0:\n",
    "            register()\n",
    "        elif checker == 1:\n",
    "            complain = input('Kindly submit your complain:')\n",
    "        elif checker == 2:\n",
    "               break \n",
    "        else:\n",
    "            print('invalid value, try again')\n",
    "            main()\n",
    "\n",
    "main()"
   ]
  },
  {
   "cell_type": "code",
   "execution_count": null,
   "id": "61c289b7",
   "metadata": {},
   "outputs": [],
   "source": [
    "## For the team\n",
    "\n",
    "complaints = [\n",
    "    \"This items does not function\",\n",
    "    \"We were not taught that unit\",\n",
    "    \"That ice-cream wasn't frosty\",\n",
    "    \"My bread is not from jupiter\",\n",
    "    \"I don't want to live forever\"\n",
    "]\n",
    "\n",
    "print(\"\\n\\tComplaints from users.\")\n",
    "print(\"===============================\")\n",
    "\n",
    "for index, complaint in enumerate(complaints):\n",
    "    print(str(index + 1) + \". \" + complaint)\n",
    "\n",
    "print(\"===============================\\n\")\n",
    "\n",
    "prompt = f\"Pick a complaint by inputting the number next to the complaint\\n\" \\\n",
    "         f\"(It should be an integer ranging from 1 - {len(complaints)}):\\n\"\n",
    "complaint_index = int(input(prompt))\n",
    "\n",
    "\n",
    "complaint_choice = complaints[complaint_index]\n",
    "print(complaint_choice)\n"
   ]
  },
  {
   "cell_type": "code",
   "execution_count": null,
   "id": "3c8173c6",
   "metadata": {},
   "outputs": [],
   "source": [
    "import requests\n",
    "url = \"https://google-translate1.p.rapidapi.com/language/translate/v2/detect\"\n",
    "\n",
    "query = complaint_choice.replace(\" \", \"%20\")\n",
    "\n",
    "payload = f\"q={query}\"\n",
    "\n",
    "headers = {\n",
    "    'content-type': \"application/x-www-form-urlencoded\",\n",
    "    'accept-encoding': \"application/gzip\",\n",
    "    'x-rapidapi-key': \"SIGN-UP-FOR-KEY\",\n",
    "    'x-rapidapi-host': \"google-translate1.p.rapidapi.com\"\n",
    "}\n",
    "\n",
    "response = requests.request(\"POST\", url, data=payload, headers=headers)\n",
    "\n",
    "print(response.text)"
   ]
  },
  {
   "cell_type": "code",
   "execution_count": null,
   "id": "f0540907",
   "metadata": {},
   "outputs": [],
   "source": [
    "import json\n",
    "data = json.loads(response.text)\n"
   ]
  },
  {
   "cell_type": "code",
   "execution_count": null,
   "id": "be423bc2",
   "metadata": {},
   "outputs": [],
   "source": [
    "url = \"https://google-translate1.p.rapidapi.com/language/translate/v2\"\n",
    "\n",
    "query = complaint_choice.replace(\" \", \"%20\")\n",
    "\n",
    "payload = \"q=Hello%2C%20world!&target=es&source=en\"\n",
    "headers = {\n",
    "    'content-type': \"application/x-www-form-urlencoded\",\n",
    "    'accept-encoding': \"application/gzip\",\n",
    "    'x-rapidapi-key': \"SIGN-UP-FOR-KEY\",\n",
    "    'x-rapidapi-host': \"google-translate1.p.rapidapi.com\"\n",
    "    }\n",
    "\n",
    "response = requests.request(\"POST\", url, data=payload, headers=headers)\n"
   ]
  },
  {
   "cell_type": "code",
   "execution_count": null,
   "id": "4eba7e42",
   "metadata": {},
   "outputs": [],
   "source": [
    "print(response.text)\n",
    "data = json.loads(response.text)\n"
   ]
  }
 ],
 "metadata": {
  "kernelspec": {
   "display_name": "Python 3",
   "language": "python",
   "name": "python3"
  }
 },
 "nbformat": 4,
 "nbformat_minor": 5
}
